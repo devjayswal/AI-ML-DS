{
  "cells": [
    {
      "cell_type": "markdown",
      "metadata": {
        "id": "view-in-github",
        "colab_type": "text"
      },
      "source": [
        "<a href=\"https://colab.research.google.com/github/devjayswal/AI-ML-DS/blob/master/sasta_ml_model_try.ipynb\" target=\"_parent\"><img src=\"https://colab.research.google.com/assets/colab-badge.svg\" alt=\"Open In Colab\"/></a>"
      ]
    },
    {
      "cell_type": "code",
      "source": [
        "import numpy as np\n",
        "import tensorflow as tf\n",
        "import pandas as pd\n",
        "import matplotlib.pyplot as plt\n",
        "from sklearn.model_selection import train_test_split\n",
        "from sklearn.preprocessing import StandardScaler,PolynomialFeatures\n",
        "from sklearn.metrics import mean_squared_error\n",
        "from sklearn.linear_model import LinearRegression\n"
      ],
      "metadata": {
        "id": "9iyfTkGSRizu"
      },
      "execution_count": 51,
      "outputs": []
    },
    {
      "cell_type": "code",
      "source": [
        "data = pd.read_csv('/content/train.csv')\n",
        "data.info()"
      ],
      "metadata": {
        "id": "hoRbKOr4Rus1",
        "outputId": "ad4a3d31-befe-46ab-b0d9-e305b6b81ddc",
        "colab": {
          "base_uri": "https://localhost:8080/"
        }
      },
      "execution_count": 19,
      "outputs": [
        {
          "output_type": "stream",
          "name": "stdout",
          "text": [
            "<class 'pandas.core.frame.DataFrame'>\n",
            "RangeIndex: 14620 entries, 0 to 14619\n",
            "Data columns (total 23 columns):\n",
            " #   Column                                 Non-Null Count  Dtype  \n",
            "---  ------                                 --------------  -----  \n",
            " 0   id                                     14620 non-null  int64  \n",
            " 1   Date                                   14620 non-null  int64  \n",
            " 2   number of bedrooms                     14620 non-null  int64  \n",
            " 3   number of bathrooms                    14620 non-null  float64\n",
            " 4   living area                            14620 non-null  int64  \n",
            " 5   lot area                               14620 non-null  int64  \n",
            " 6   number of floors                       14620 non-null  float64\n",
            " 7   waterfront present                     14620 non-null  int64  \n",
            " 8   number of views                        14620 non-null  int64  \n",
            " 9   condition of the house                 14620 non-null  int64  \n",
            " 10  grade of the house                     14620 non-null  int64  \n",
            " 11  Area of the house(excluding basement)  14620 non-null  int64  \n",
            " 12  Area of the basement                   14620 non-null  int64  \n",
            " 13  Built Year                             14620 non-null  int64  \n",
            " 14  Renovation Year                        14620 non-null  int64  \n",
            " 15  Postal Code                            14620 non-null  int64  \n",
            " 16  Lattitude                              14620 non-null  float64\n",
            " 17  Longitude                              14620 non-null  float64\n",
            " 18  living_area_renov                      14620 non-null  int64  \n",
            " 19  lot_area_renov                         14620 non-null  int64  \n",
            " 20  Number of schools nearby               14620 non-null  int64  \n",
            " 21  Distance from the airport              14620 non-null  int64  \n",
            " 22  Price                                  14620 non-null  int64  \n",
            "dtypes: float64(4), int64(19)\n",
            "memory usage: 2.6 MB\n"
          ]
        }
      ]
    },
    {
      "cell_type": "code",
      "source": [
        "x=np.array(data.iloc[0:50,11])\n",
        "y=np.array(data.iloc[0:50,22])"
      ],
      "metadata": {
        "id": "ev9RTuXkTXBF"
      },
      "execution_count": 38,
      "outputs": []
    },
    {
      "cell_type": "code",
      "source": [
        "# making x, y 2d array bcoz it is required for early acess commonds\n",
        "x=np.expand_dims(x,axis=1)\n",
        "y=np.expand_dims(y,axis=1)\n",
        "print(f\"shape of x is {x.shape} and shape of y is  {y.shape}\")"
      ],
      "metadata": {
        "id": "C6f0-dn-VReg",
        "outputId": "17be56bf-8721-477f-f1ad-a802b171430e",
        "colab": {
          "base_uri": "https://localhost:8080/"
        }
      },
      "execution_count": 39,
      "outputs": [
        {
          "output_type": "stream",
          "name": "stdout",
          "text": [
            "shape of x is (50, 1) and shape of y is  (50, 1)\n"
          ]
        }
      ]
    },
    {
      "cell_type": "code",
      "source": [
        "plt.xlabel('price')\n",
        "plt.ylabel('size')\n",
        "plt.scatter(x,y,)"
      ],
      "metadata": {
        "id": "1Lbtru8_VYNX",
        "outputId": "cd526c4b-1674-4f5f-aab0-6a942579026d",
        "colab": {
          "base_uri": "https://localhost:8080/",
          "height": 482
        }
      },
      "execution_count": 44,
      "outputs": [
        {
          "output_type": "execute_result",
          "data": {
            "text/plain": [
              "<matplotlib.collections.PathCollection at 0x7f432f7f7220>"
            ]
          },
          "metadata": {},
          "execution_count": 44
        },
        {
          "output_type": "display_data",
          "data": {
            "text/plain": [
              "<Figure size 640x480 with 1 Axes>"
            ],
            "image/png": "[encoded data removed]"
          },
          "metadata": {}
        }
      ]
    },
    {
      "cell_type": "code",
      "source": [
        "x_train,x_,y_train,y_= train_test_split(x,y,test_size=0.40,random_state=1)\n",
        "x_cv,x_test,y_cv,y_test =train_test_split(x_,y_,test_size=0.50,random_state=1)\n",
        "del x_,y_"
      ],
      "metadata": {
        "id": "6NZVNZuVVbiv"
      },
      "execution_count": 45,
      "outputs": []
    },
    {
      "cell_type": "code",
      "source": [
        "scaler_linear=StandardScaler()\n",
        "x_train_scale=scaler_linear.fit_transform(x_train)\n"
      ],
      "metadata": {
        "id": "SxWBBUm0Xx6h"
      },
      "execution_count": 57,
      "outputs": []
    },
    {
      "cell_type": "code",
      "source": [
        "linear_model=LinearRegression()\n",
        "linear_model.fit(x_train_scale,y_train)\n",
        "yhat=linear_model.predict(x_train_scale)\n",
        "print(\"mean squared error of training set is : \" , mean_squared_error(y_train,yhat)/2)"
      ],
      "metadata": {
        "id": "ECKyAa9-cYT8",
        "outputId": "7f2879d1-9e20-4c96-e5fd-6c03e045f528",
        "colab": {
          "base_uri": "https://localhost:8080/"
        }
      },
      "execution_count": 63,
      "outputs": [
        {
          "output_type": "stream",
          "name": "stdout",
          "text": [
            "mean squared error of training set is :  58738195772.00465\n"
          ]
        }
      ]
    },
    {
      "cell_type": "code",
      "source": [
        "# cross validation set mean standdard deviation msre\n",
        "scaler_linear=StandardScaler()\n",
        "x_cv_scale = scaler_linear.fit_transform(x_cv)\n",
        "yhat= linear_model.predict(x_cv_scale)\n",
        "print(\"mse of crossvalidation set=\",mean_squared_error(y_cv,yhat)/2)"
      ],
      "metadata": {
        "id": "S8hOsni0fTR_",
        "outputId": "61098630-61bc-45d3-cb30-357d5c3f2e1d",
        "colab": {
          "base_uri": "https://localhost:8080/"
        }
      },
      "execution_count": 64,
      "outputs": [
        {
          "output_type": "stream",
          "name": "stdout",
          "text": [
            "mse of crossvalidation set= 16708589846.523294\n"
          ]
        }
      ]
    },
    {
      "cell_type": "code",
      "source": [
        "  "
      ],
      "metadata": {
        "id": "AhbzZTvhg2UE"
      },
      "execution_count": null,
      "outputs": []
    }
  ],
  "metadata": {
    "colab": {
      "name": "Welcome To Colaboratory",
      "provenance": [],
      "include_colab_link": true
    },
    "kernelspec": {
      "display_name": "Python 3",
      "name": "python3"
    }
  },
  "nbformat": 4,
  "nbformat_minor": 0
}